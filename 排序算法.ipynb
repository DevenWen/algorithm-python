{
 "cells": [
  {
   "cell_type": "code",
   "execution_count": 8,
   "metadata": {},
   "outputs": [],
   "source": [
    "import random\n",
    "\n",
    "MAX = 1000*1000\n",
    "\n",
    "def swap(ll, x, y):\n",
    "    t = ll[x]\n",
    "    ll[x] = ll[y]\n",
    "    ll[y] = t\n",
    "    \n",
    "def out_of_order(ll):\n",
    "    ''' 乱序 '''\n",
    "    size = len(ll)\n",
    "    if size <= 1:\n",
    "        return list\n",
    "    for i in range(0, size):\n",
    "        r = random.randint(0, size-1)\n",
    "        swap(ll, i, r)\n",
    "    return ll\n",
    "\n",
    "def range_list(mm, size):\n",
    "    '''\n",
    "    max -> 列表最大值\n",
    "    size -> 列表长度\n",
    "    '''\n",
    "    ll = []\n",
    "    for i in range(size):\n",
    "        ll.append(random.randint(0, mm) % (size * 10))\n",
    "    return ll\n",
    "        "
   ]
  },
  {
   "cell_type": "code",
   "execution_count": 9,
   "metadata": {},
   "outputs": [
    {
     "name": "stdout",
     "output_type": "stream",
     "text": [
      "[2, 72, 16, 81, 68, 28, 83, 54, 49, 28]\n"
     ]
    }
   ],
   "source": [
    "def insert_sort(ll):\n",
    "    ''' 插入排序 '''\n",
    "    size = len(ll)\n",
    "    for i in range(size):\n",
    "        j = i\n",
    "        for k in range(j, size):\n",
    "            if ll[k] < ll[j]:\n",
    "                swap(ll, k, j)\n",
    "    return ll\n",
    "\n",
    "ll = range_list(MAX, 10)\n",
    "print ll"
   ]
  },
  {
   "cell_type": "code",
   "execution_count": 10,
   "metadata": {},
   "outputs": [
    {
     "name": "stdout",
     "output_type": "stream",
     "text": [
      "[2, 16, 28, 28, 49, 54, 68, 72, 81, 83]\n"
     ]
    }
   ],
   "source": [
    "print insert_sort(ll)"
   ]
  },
  {
   "cell_type": "code",
   "execution_count": 11,
   "metadata": {},
   "outputs": [],
   "source": [
    "def bubble_sort(ll):\n",
    "    ''' 冒泡排序 '''\n",
    "    size = len(ll)\n",
    "    for i in range(size):\n",
    "        for j in range(size-i):\n",
    "            if j+1 < size and ll[j] > ll[j+1]:\n",
    "                swap(ll, j, j+1)\n",
    "    return ll"
   ]
  },
  {
   "cell_type": "code",
   "execution_count": 12,
   "metadata": {},
   "outputs": [
    {
     "name": "stdout",
     "output_type": "stream",
     "text": [
      "[13, 18, 60, 88, 74, 71, 92, 7, 64, 26]\n",
      "[7, 13, 18, 26, 60, 64, 71, 74, 88, 92]\n",
      "[7, 13, 18, 26, 60, 64, 71, 74, 88, 92]\n"
     ]
    }
   ],
   "source": [
    "ll = range_list(MAX, 10)\n",
    "print ll\n",
    "print bubble_sort(ll)\n",
    "print insert_sort(ll)"
   ]
  },
  {
   "cell_type": "code",
   "execution_count": 79,
   "metadata": {},
   "outputs": [],
   "source": [
    "def m_sort(ll):\n",
    "    '''\n",
    "    分治算法\n",
    "    显示切割，然后归并\n",
    "    '''\n",
    "    size = len(ll)\n",
    "    if size <= 1:\n",
    "        return ll\n",
    "    m = size/2\n",
    "    Llist = m_sort(ll[0:m])\n",
    "    Rlist = m_sort(ll[m:size])\n",
    "    return m_merge(Llist, Rlist)\n",
    "    \n",
    "\n",
    "def m_merge(Llist, Rlist):\n",
    "    result = []\n",
    "    i = 0\n",
    "    j = 0\n",
    "    Lsize = len(Llist)\n",
    "    Rsize = len(Rlist)\n",
    "    while (i < Lsize and j < Rsize):\n",
    "        if Llist[i] < Rlist[j]:\n",
    "            result.append(Llist[i])\n",
    "            i += 1\n",
    "        else:\n",
    "            result.append(Rlist[j])\n",
    "            j += 1\n",
    "    \n",
    "    while i < Lsize:\n",
    "        result.append(Llist[i])\n",
    "        i += 1\n",
    "    while j < Rsize:\n",
    "        result.append(Rlist[j])\n",
    "        j += 1\n",
    "    \n",
    "    return result\n",
    "\n"
   ]
  },
  {
   "cell_type": "code",
   "execution_count": 77,
   "metadata": {},
   "outputs": [
    {
     "name": "stdout",
     "output_type": "stream",
     "text": [
      "[26, 15, 99, 31, 56, 85, 57, 80, 8, 7]\n"
     ]
    }
   ],
   "source": [
    "ll = range_list(MAX, 10)\n",
    "print ll\n",
    "    "
   ]
  },
  {
   "cell_type": "code",
   "execution_count": 78,
   "metadata": {},
   "outputs": [
    {
     "name": "stdout",
     "output_type": "stream",
     "text": [
      "[7, 8, 15, 26, 31, 56, 57, 80, 85, 99]\n",
      "[7, 8, 15, 26, 31, 56, 57, 80, 85, 99]\n",
      "[7, 8, 15, 26, 31, 56, 57, 80, 85, 99]\n"
     ]
    }
   ],
   "source": [
    "print m_sort(ll)\n",
    "print insert_sort(ll)\n",
    "print bubble_sort(ll)"
   ]
  },
  {
   "cell_type": "code",
   "execution_count": null,
   "metadata": {},
   "outputs": [],
   "source": [
    "def quick_sort(ll):\n",
    "    \n",
    "    pass"
   ]
  }
 ],
 "metadata": {
  "kernelspec": {
   "display_name": "Python 2",
   "language": "python",
   "name": "python2"
  },
  "language_info": {
   "codemirror_mode": {
    "name": "ipython",
    "version": 2
   },
   "file_extension": ".py",
   "mimetype": "text/x-python",
   "name": "python",
   "nbconvert_exporter": "python",
   "pygments_lexer": "ipython2",
   "version": "2.7.13"
  }
 },
 "nbformat": 4,
 "nbformat_minor": 2
}
